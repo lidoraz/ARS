{
 "cells": [
  {
   "cell_type": "code",
   "execution_count": 8,
   "metadata": {},
   "outputs": [],
   "source": [
    "import os\n",
    "os.environ[\"RUN_MODE\"] = \"0\""
   ]
  },
  {
   "cell_type": "code",
   "execution_count": 9,
   "metadata": {},
   "outputs": [],
   "source": [
    "from DataLoader import *\n",
    "from Data import Data\n",
    "from Evalute import evaluate_model\n",
    "from Models.SimpleCF import SimpleCF"
   ]
  },
  {
   "cell_type": "code",
   "execution_count": 10,
   "metadata": {},
   "outputs": [
    {
     "name": "stdout",
     "output_type": "stream",
     "text": [
      "Started...\n",
      "n_users: 943 n_movies: 1682\n",
      "get_train_instances done\n"
     ]
    }
   ],
   "source": [
    "from time import time\n",
    "# An example for running the model and evaluating using leave-1-out and top-k using hit ratio and NCDG metrics\n",
    "convert_binary = True\n",
    "load_model = False\n",
    "testset_percentage = 0.2\n",
    "\n",
    "\n",
    "print('Started...')\n",
    "\n",
    "df = get_movielens100k(convert_binary=False)\n",
    "\n",
    "data = Data(df, seed=42)\n",
    "t0 = time()\n",
    "training_set, test_set, n_users, n_movies = data.pre_processing(test_percent=0.5, train_precent=1)"
   ]
  },
  {
   "cell_type": "code",
   "execution_count": null,
   "metadata": {},
   "outputs": [],
   "source": [
    "# WORK ON EMBEDDINGS"
   ]
  },
  {
   "cell_type": "code",
   "execution_count": 11,
   "metadata": {},
   "outputs": [
    {
     "name": "stdout",
     "output_type": "stream",
     "text": [
      "model has been set\n",
      "Model: \"model_1\"\n",
      "__________________________________________________________________________________________________\n",
      "Layer (type)                    Output Shape         Param #     Connected to                     \n",
      "==================================================================================================\n",
      "user_input (InputLayer)         [(None, 1)]          0                                            \n",
      "__________________________________________________________________________________________________\n",
      "movie_input (InputLayer)        [(None, 1)]          0                                            \n",
      "__________________________________________________________________________________________________\n",
      "user_embedding (Embedding)      (None, 1, 64)        60416       user_input[0][0]                 \n",
      "__________________________________________________________________________________________________\n",
      "movie_embedding (Embedding)     (None, 1, 64)        107712      movie_input[0][0]                \n",
      "__________________________________________________________________________________________________\n",
      "FlattenUsers (Flatten)          (None, 64)           0           user_embedding[0][0]             \n",
      "__________________________________________________________________________________________________\n",
      "FlattenMovies (Flatten)         (None, 64)           0           movie_embedding[0][0]            \n",
      "__________________________________________________________________________________________________\n",
      "Simalarity-Dot-Product (Dot)    (None, 1)            0           FlattenUsers[0][0]               \n",
      "                                                                 FlattenMovies[0][0]              \n",
      "==================================================================================================\n",
      "Total params: 168,128\n",
      "Trainable params: 168,128\n",
      "Non-trainable params: 0\n",
      "__________________________________________________________________________________________________\n",
      "None\n",
      "Init: HR = 0.0953, NDCG = 0.0470, Eval:[22.1 s]\n",
      "Iteration: 1 Fit:[14.8 s]: HR = 0.1314, NDCG = 0.0674, loss = 2.7458, Eval:[21.1 s]\n",
      "Saved model and weights at dir: Models/checkpoint_cf\n",
      "Iteration: 2 Fit:[14.2 s]: HR = 0.3305, NDCG = 0.1669, loss = 2.6558, Eval:[22.3 s]\n",
      "Saved model and weights at dir: Models/checkpoint_cf\n",
      "Iteration: 3 Fit:[13.9 s]: HR = 0.3581, NDCG = 0.1819, loss = 2.2484, Eval:[22.0 s]\n",
      "Saved model and weights at dir: Models/checkpoint_cf\n",
      "Iteration: 4 Fit:[14.0 s]: HR = 0.3708, NDCG = 0.1911, loss = 1.9135, Eval:[21.6 s]\n",
      "Saved model and weights at dir: Models/checkpoint_cf\n",
      "Iteration: 5 Fit:[14.0 s]: HR = 0.3686, NDCG = 0.1941, loss = 1.7939, Eval:[21.9 s]\n",
      "Iteration: 6 Fit:[13.8 s]: HR = 0.3792, NDCG = 0.1985, loss = 1.7488, Eval:[20.0 s]\n",
      "Saved model and weights at dir: Models/checkpoint_cf\n",
      "Iteration: 7 Fit:[13.8 s]: HR = 0.3835, NDCG = 0.2012, loss = 1.7229, Eval:[22.0 s]\n",
      "Saved model and weights at dir: Models/checkpoint_cf\n",
      "Iteration: 8 Fit:[13.8 s]: HR = 0.3962, NDCG = 0.2074, loss = 1.7025, Eval:[22.6 s]\n",
      "Saved model and weights at dir: Models/checkpoint_cf\n",
      "Iteration: 9 Fit:[13.9 s]: HR = 0.4025, NDCG = 0.2123, loss = 1.6834, Eval:[20.0 s]\n",
      "Saved model and weights at dir: Models/checkpoint_cf\n",
      "Iteration: 10 Fit:[13.8 s]: HR = 0.4153, NDCG = 0.2180, loss = 1.6645, Eval:[20.3 s]\n",
      "Saved model and weights at dir: Models/checkpoint_cf\n",
      "Total time: [376.3 s]\n"
     ]
    }
   ],
   "source": [
    "epochs = 10\n",
    "\n",
    "low_rank_cf_model = SimpleCF()\n",
    "\n",
    "best_hr=0\n",
    "best_ndcg = 0\n",
    "low_rank_cf_model.set_model(n_users, n_movies, n_latent_factors=64)\n",
    "t0 = time()\n",
    "mean_hr, mean_ndcg = evaluate_model(low_rank_cf_model, test_set)\n",
    "print('Init: HR = %.4f, NDCG = %.4f, Eval:[%.1f s]'\n",
    "      % (mean_hr, mean_ndcg, time()-t0 ))\n",
    "for epoch in range(epochs):\n",
    "    t1 = time()\n",
    "    loss = low_rank_cf_model.fit_once(training_set, batch_size=128, verbose=0)\n",
    "    t2 = time()\n",
    "    mean_hr, mean_ndcg = evaluate_model(low_rank_cf_model, test_set)\n",
    "    t3 = time()\n",
    "    print('Iteration: %d Fit:[%.1f s]: HR = %.4f, NDCG = %.4f, loss = %.4f, Eval:[%.1f s]'\n",
    "          % (epoch+1, t2 - t1, mean_hr, mean_ndcg, loss, t3 - t2))\n",
    "    if mean_hr > best_hr and mean_ndcg > best_ndcg:\n",
    "        best_hr = mean_hr\n",
    "        best_ndcg = mean_ndcg\n",
    "        low_rank_cf_model.save_model()\n",
    "print('Total time: [%.1f s]' % (time()- t0))"
   ]
  },
  {
   "cell_type": "code",
   "execution_count": null,
   "metadata": {},
   "outputs": [],
   "source": []
  }
 ],
 "metadata": {
  "kernelspec": {
   "display_name": "Python 3",
   "language": "python",
   "name": "python3"
  },
  "language_info": {
   "codemirror_mode": {
    "name": "ipython",
    "version": 3
   },
   "file_extension": ".py",
   "mimetype": "text/x-python",
   "name": "python",
   "nbconvert_exporter": "python",
   "pygments_lexer": "ipython3",
   "version": "3.6.9"
  }
 },
 "nbformat": 4,
 "nbformat_minor": 2
}
