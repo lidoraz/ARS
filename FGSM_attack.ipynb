{
 "cells": [
  {
   "cell_type": "code",
   "execution_count": 12,
   "metadata": {},
   "outputs": [
    {
     "name": "stdout",
     "output_type": "stream",
     "text": [
      "WARNING:tensorflow:From C:\\Users\\Admin\\Anaconda3\\envs\\test\\lib\\site-packages\\tensorflow_core\\python\\compat\\v2_compat.py:65: disable_resource_variables (from tensorflow.python.ops.variable_scope) is deprecated and will be removed in a future version.\n",
      "Instructions for updating:\n",
      "non-resource variables are not supported in the long term\n"
     ]
    }
   ],
   "source": [
    "from tensorflow.compat.v1.keras.datasets import mnist\n",
    "from tensorflow.compat.v1.keras.models import Sequential, Model\n",
    "from tensorflow.compat.v1.keras.layers import Conv2D, MaxPooling2D, Dropout, Flatten, Dense, Activation\n",
    "from tensorflow.compat.v1.keras.utils import to_categorical\n",
    "# from tensorflow.python.keras.backend import *\n",
    "from tensorflow.compat.v1.keras import backend as K\n",
    "import tensorflow.compat.v1 as tf\n",
    "import numpy as np\n",
    "tf.disable_v2_behavior()\n",
    "\n",
    "# from tensorflow.python.keras.datasets import mnist\n",
    "# from tensorflow.python.keras.models import Sequential, Model\n",
    "# from tensorflow.python.keras.layers import Conv2D, MaxPooling2D, Dropout, Flatten, Dense, Activation\n",
    "# from tensorflow.python.keras.utils import to_categorical\n",
    "# # from tensorflow.python.keras.backend import *\n",
    "# from tensorflow.python.keras import backend as K\n",
    "# import tensorflow as tf\n",
    "# import numpy as np\n",
    "# # import tensorflow.compat.v1 as tf\n",
    "# # tf.disable_v2_behavior()\n",
    "\n",
    "\n",
    "trgt_inp = tf.placeholder(tf.float32, (10, 32, 32, 1))"
   ]
  },
  {
   "cell_type": "code",
   "execution_count": 13,
   "metadata": {},
   "outputs": [
    {
     "name": "stdout",
     "output_type": "stream",
     "text": [
      "Train size - 60000. Each img 28x28 pixels.\n"
     ]
    }
   ],
   "source": [
    "# import tf.keras.backend as K\n",
    "import math\n",
    "\n",
    "(x_train, y_train), (x_test, y_test) = mnist.load_data()\n",
    "\n",
    "batch_size = 32\n",
    "epochs = 2\n",
    "\n",
    "n_samples = x_train.shape[0]\n",
    "\n",
    "img_width = x_train.shape[1]\n",
    "img_height = x_train.shape[2]\n",
    "channels = 1\n",
    "\n",
    "y_train = to_categorical(y_train)\n",
    "y_test = to_categorical(y_test)\n",
    "\n",
    "n_classes = y_train.shape[1]\n",
    "\n",
    "print('Train size - {}. Each img {}x{} pixels.'.format(x_train.shape[0], img_width, img_height))\n",
    "\n",
    "x_train = x_train.reshape((x_train.shape[0], img_width, img_height, 1))\n",
    "x_test = x_test.reshape((x_test.shape[0], img_width, img_height, 1))\n",
    "\n",
    "x_train = x_train.astype('float32')\n",
    "x_test = x_test.astype('float32')\n",
    "\n",
    "x_train /= 255\n",
    "x_test /= 255"
   ]
  },
  {
   "cell_type": "code",
   "execution_count": 15,
   "metadata": {},
   "outputs": [
    {
     "name": "stdout",
     "output_type": "stream",
     "text": [
      "Model: \"sequential_2\"\n",
      "_________________________________________________________________\n",
      "Layer (type)                 Output Shape              Param #   \n",
      "=================================================================\n",
      "conv2d_4 (Conv2D)            (None, 26, 26, 32)        320       \n",
      "_________________________________________________________________\n",
      "conv2d_5 (Conv2D)            (None, 24, 24, 64)        18496     \n",
      "_________________________________________________________________\n",
      "max_pooling2d_2 (MaxPooling2 (None, 12, 12, 64)        0         \n",
      "_________________________________________________________________\n",
      "dropout_4 (Dropout)          (None, 12, 12, 64)        0         \n",
      "_________________________________________________________________\n",
      "flatten_2 (Flatten)          (None, 9216)              0         \n",
      "_________________________________________________________________\n",
      "dense_4 (Dense)              (None, 128)               1179776   \n",
      "_________________________________________________________________\n",
      "dropout_5 (Dropout)          (None, 128)               0         \n",
      "_________________________________________________________________\n",
      "dense_5 (Dense)              (None, 10)                1290      \n",
      "=================================================================\n",
      "Total params: 1,199,882\n",
      "Trainable params: 1,199,882\n",
      "Non-trainable params: 0\n",
      "_________________________________________________________________\n"
     ]
    }
   ],
   "source": [
    "model = Sequential()\n",
    "model.add(Conv2D(32, kernel_size=(3, 3), activation='relu', input_shape=(img_width, img_height, channels)))\n",
    "model.add(Conv2D(64, (3, 3), activation='relu'))\n",
    "model.add(MaxPooling2D(pool_size=(2, 2)))\n",
    "model.add(Dropout(0.25))\n",
    "model.add(Flatten())\n",
    "model.add(Dense(128, activation='relu'))\n",
    "model.add(Dropout(0.5))\n",
    "model.add(Dense(n_classes))\n",
    "\n",
    "sess = K.get_session()  # Get the current session from Keras.\n",
    "def loss_fn(correct, predicted):\n",
    "    return tf.nn.softmax_cross_entropy_with_logits(labels=correct,\n",
    "                                                   logits=predicted)\n",
    "\n",
    "\n",
    "model.compile(loss=loss_fn, optimizer='adam', metrics=['accuracy'])\n",
    "model.summary()"
   ]
  },
  {
   "cell_type": "code",
   "execution_count": 16,
   "metadata": {},
   "outputs": [
    {
     "name": "stdout",
     "output_type": "stream",
     "text": [
      "Train on 60000 samples, validate on 10000 samples\n",
      "Epoch 1/2\n",
      "60000/60000 [==============================] - 10s 159us/sample - loss: 0.1858 - acc: 0.9444 - val_loss: 0.0435 - val_acc: 0.9853\n",
      "Epoch 2/2\n",
      "60000/60000 [==============================] - 9s 154us/sample - loss: 0.0800 - acc: 0.9759 - val_loss: 0.0406 - val_acc: 0.9871\n"
     ]
    },
    {
     "data": {
      "text/plain": [
       "<tensorflow.python.keras.callbacks.History at 0x1fb37d22c18>"
      ]
     },
     "execution_count": 16,
     "metadata": {},
     "output_type": "execute_result"
    }
   ],
   "source": [
    "model.fit(x_train, y_train,\n",
    "          batch_size=batch_size,\n",
    "          epochs=epochs,\n",
    "          verbose=1,\n",
    "          validation_data=(x_test, y_test))"
   ]
  },
  {
   "cell_type": "code",
   "execution_count": 19,
   "metadata": {},
   "outputs": [
    {
     "name": "stdout",
     "output_type": "stream",
     "text": [
      "10000/10000 [==============================] - 1s 72us/sample - loss: 0.0406 - acc: 0.9871\n",
      "10000/10000 [==============================] - 1s 70us/sample - loss: 14.2489 - acc: 0.1574\n",
      "Accuracy before FGSM 0.9871000051498413, Accuracy after FGSM 0.1573999971151352\n"
     ]
    }
   ],
   "source": [
    "\"\"\"FGSM ATTACK\"\"\"\n",
    "\n",
    "n_adversarial = y_test.shape[0]\n",
    "\n",
    "trgt_inp = tf.placeholder(tf.float32, (n_adversarial, img_width, img_height, 1))\n",
    "true_out = tf.placeholder(tf.float32, (n_adversarial, 10))\n",
    "epsilon = tf.placeholder(tf.float32, [n_adversarial, img_width, img_height, 1])\n",
    "\n",
    "new_inp = tf.identity(trgt_inp)  #\n",
    "\n",
    "output = model(new_inp)\n",
    "\n",
    "loss = tf.sqrt(tf.nn.softmax_cross_entropy_with_logits(logits=output, labels=true_out))\n",
    "\n",
    "# Constructs symbolic partial derivatives of sum of ys w.r.t. x in xs.\n",
    "grad = tf.gradients(loss, new_inp)\n",
    "# will allow gradient computation only on the input (#check this)\n",
    "new_inp = tf.stop_gradient(new_inp + epsilon * tf.sign(grad))\n",
    "\n",
    "step = 0.9\n",
    "eps = np.full((n_adversarial, img_width, img_height, 1), step)\n",
    "\n",
    "feed_dict = {trgt_inp: x_test,\n",
    "             true_out: y_test,\n",
    "             epsilon: eps}\n",
    "\n",
    "x_adv, l = sess.run([new_inp, loss],\n",
    "                    feed_dict)\n",
    "\n",
    "x_adv = x_adv.reshape((n_adversarial, img_width, img_height, 1))\n",
    "\n",
    "acc_bfr_attck = model.evaluate(x=x_test, y=y_test, batch_size=32)[1]\n",
    "acc_aftr_attck = model.evaluate(x=x_adv, y=y_test, batch_size=32)[1]\n",
    "print('Accuracy before FGSM {}, Accuracy after FGSM {}'.format(acc_bfr_attck, acc_aftr_attck))"
   ]
  },
  {
   "cell_type": "code",
   "execution_count": null,
   "metadata": {},
   "outputs": [],
   "source": []
  }
 ],
 "metadata": {
  "kernelspec": {
   "display_name": "Python 3",
   "language": "python",
   "name": "python3"
  },
  "language_info": {
   "codemirror_mode": {
    "name": "ipython",
    "version": 3
   },
   "file_extension": ".py",
   "mimetype": "text/x-python",
   "name": "python",
   "nbconvert_exporter": "python",
   "pygments_lexer": "ipython3",
   "version": "3.6.9"
  }
 },
 "nbformat": 4,
 "nbformat_minor": 2
}
