{
 "cells": [
  {
   "cell_type": "code",
   "execution_count": 1,
   "metadata": {},
   "outputs": [],
   "source": [
    "import os\n",
    "os.environ[\"RUN_MODE\"] = \"0\""
   ]
  },
  {
   "cell_type": "code",
   "execution_count": 2,
   "metadata": {},
   "outputs": [
    {
     "name": "stdout",
     "output_type": "stream",
     "text": [
      "Dataset path - Running mode: 0\n"
     ]
    }
   ],
   "source": [
    "from DataLoader import *\n",
    "from Data import Data\n",
    "from Evalute import evaluate_model\n",
    "from Models.SimpleCF import SimpleCF\n",
    "import numpy as np"
   ]
  },
  {
   "cell_type": "code",
   "execution_count": 3,
   "metadata": {},
   "outputs": [
    {
     "name": "stdout",
     "output_type": "stream",
     "text": [
      "Started...\n",
      "n_users: 943 n_movies: 1682\n",
      "get_train_instances done\n"
     ]
    }
   ],
   "source": [
    "from time import time\n",
    "# An example for running the model and evaluating using leave-1-out and top-k using hit ratio and NCDG metrics\n",
    "convert_binary = True\n",
    "load_model = False\n",
    "testset_percentage = 0.2\n",
    "\n",
    "\n",
    "print('Started...')\n",
    "\n",
    "df = get_movielens100k(convert_binary=False)\n",
    "\n",
    "data = Data(df, seed=42)\n",
    "t0 = time()\n",
    "training_set, test_set, n_users, n_movies = data.pre_processing(test_percent=0.5, train_precent=1)"
   ]
  },
  {
   "cell_type": "code",
   "execution_count": 4,
   "metadata": {},
   "outputs": [],
   "source": [
    "# WORK ON EMBEDDINGS\n",
    "\n",
    "n_fake_users = 300\n",
    "# possible the need to have n_movies+1\n",
    "fake_users_mat = np.zeros((n_fake_users , n_movies))\n",
    "n_users_w_fake = n_fake_users + n_users\n"
   ]
  },
  {
   "cell_type": "code",
   "execution_count": 5,
   "metadata": {},
   "outputs": [
    {
     "name": "stdout",
     "output_type": "stream",
     "text": [
      "model has been set\n",
      "Model: \"model\"\n",
      "__________________________________________________________________________________________________\n",
      "Layer (type)                    Output Shape         Param #     Connected to                     \n",
      "==================================================================================================\n",
      "user_input (InputLayer)         [(None, 1)]          0                                            \n",
      "__________________________________________________________________________________________________\n",
      "movie_input (InputLayer)        [(None, 1)]          0                                            \n",
      "__________________________________________________________________________________________________\n",
      "user_embedding (Embedding)      (None, 1, 64)        60416       user_input[0][0]                 \n",
      "__________________________________________________________________________________________________\n",
      "movie_embedding (Embedding)     (None, 1, 64)        107712      movie_input[0][0]                \n",
      "__________________________________________________________________________________________________\n",
      "FlattenUsers (Flatten)          (None, 64)           0           user_embedding[0][0]             \n",
      "__________________________________________________________________________________________________\n",
      "FlattenMovies (Flatten)         (None, 64)           0           movie_embedding[0][0]            \n",
      "__________________________________________________________________________________________________\n",
      "Simalarity-Dot-Product (Dot)    (None, 1)            0           FlattenUsers[0][0]               \n",
      "                                                                 FlattenMovies[0][0]              \n",
      "==================================================================================================\n",
      "Total params: 168,128\n",
      "Trainable params: 168,128\n",
      "Non-trainable params: 0\n",
      "__________________________________________________________________________________________________\n",
      "None\n",
      "Init: HR = 0.1123, NDCG = 0.0511, Eval:[23.0 s]\n",
      "Iteration: 1 Fit:[14.6 s]: HR = 0.1653, NDCG = 0.0770, loss = 2.7453, Eval:[21.3 s]\n",
      "Saved model and weights at dir: Models/checkpoint_cf\n",
      "Total time: [59.0 s]\n"
     ]
    }
   ],
   "source": [
    "epochs = 1\n",
    "\n",
    "low_rank_cf_model = SimpleCF()\n",
    "\n",
    "best_hr=0\n",
    "best_ndcg = 0\n",
    "low_rank_cf_model.set_model(n_users, n_movies, n_latent_factors=64)\n",
    "t0 = time()\n",
    "mean_hr, mean_ndcg = evaluate_model(low_rank_cf_model, test_set)\n",
    "print('Init: HR = %.4f, NDCG = %.4f, Eval:[%.1f s]'\n",
    "      % (mean_hr, mean_ndcg, time()-t0 ))\n",
    "for epoch in range(epochs):\n",
    "    t1 = time()\n",
    "    loss = low_rank_cf_model.fit_once(training_set, batch_size=128, verbose=0)\n",
    "    t2 = time()\n",
    "    mean_hr, mean_ndcg = evaluate_model(low_rank_cf_model, test_set)\n",
    "    t3 = time()\n",
    "    print('Iteration: %d Fit:[%.1f s]: HR = %.4f, NDCG = %.4f, loss = %.4f, Eval:[%.1f s]'\n",
    "          % (epoch+1, t2 - t1, mean_hr, mean_ndcg, loss, t3 - t2))\n",
    "    if mean_hr > best_hr and mean_ndcg > best_ndcg:\n",
    "        best_hr = mean_hr\n",
    "        best_ndcg = mean_ndcg\n",
    "        low_rank_cf_model.save_model()\n",
    "print('Total time: [%.1f s]' % (time()- t0))"
   ]
  },
  {
   "cell_type": "code",
   "execution_count": 6,
   "metadata": {},
   "outputs": [
    {
     "name": "stdout",
     "output_type": "stream",
     "text": [
      "WARNING:tensorflow:From C:\\Users\\Admin\\Anaconda3\\envs\\test\\lib\\site-packages\\tensorflow_core\\python\\compat\\v2_compat.py:65: disable_resource_variables (from tensorflow.python.ops.variable_scope) is deprecated and will be removed in a future version.\n",
      "Instructions for updating:\n",
      "non-resource variables are not supported in the long term\n"
     ]
    }
   ],
   "source": [
    "import tensorflow.compat.v1 as tf\n",
    "tf.disable_v2_behavior()"
   ]
  },
  {
   "cell_type": "code",
   "execution_count": 7,
   "metadata": {},
   "outputs": [
    {
     "data": {
      "text/plain": [
       "False"
      ]
     },
     "execution_count": 7,
     "metadata": {},
     "output_type": "execute_result"
    }
   ],
   "source": [
    "tf.executing_eagerly()"
   ]
  },
  {
   "cell_type": "code",
   "execution_count": 8,
   "metadata": {},
   "outputs": [],
   "source": [
    "n_fake_users = 50"
   ]
  },
  {
   "cell_type": "code",
   "execution_count": 9,
   "metadata": {},
   "outputs": [],
   "source": [
    "\"\"\"FGSM ATTACK\"\"\"\n",
    "\n",
    "user_inp = tf.placeholder(tf.float32, (n_fake_users, 64))\n",
    "item_inp = tf.placeholder(tf.float32, (n_fake_users, 64))\n",
    "# true_out = tf.placeholder(tf.float32, (n_fake_users, 10))\n",
    "epsilon = tf.placeholder(tf.float32, [n_fake_users, 64])\n",
    "# user_inp = tf.Variable((n_fake_users, 64), tf.float32)\n",
    "# item_inp = tf.Variable((n_fake_users, 64), tf.float32)\n",
    "# # true_out = tf.placeholder(tf.float32, (n_fake_users, 10))\n",
    "# epsilon = tf.Variable([n_fake_users, 64], tf.float32)"
   ]
  },
  {
   "cell_type": "code",
   "execution_count": null,
   "metadata": {},
   "outputs": [],
   "source": [
    "train\n",
    "# test\n",
    "\n",
    "\n",
    "ratings = low_rank_cf_model.model([user_inp, item_inp])\n",
    "\n",
    "# [0 0 0 0 0 0 0 0 0 0 0 ] ; [11 545 897 252 45 78 5 4 5 9 6 4] -- > 0, 1 ,0 "
   ]
  },
  {
   "cell_type": "code",
   "execution_count": null,
   "metadata": {},
   "outputs": [],
   "source": [
    "grad = tf.gradients(loss, [user_inp, item_inp])"
   ]
  },
  {
   "cell_type": "code",
   "execution_count": 9,
   "metadata": {},
   "outputs": [
    {
     "ename": "NameError",
     "evalue": "name 'y_test' is not defined",
     "output_type": "error",
     "traceback": [
      "\u001b[1;31m---------------------------------------------------------------------------\u001b[0m",
      "\u001b[1;31mNameError\u001b[0m                                 Traceback (most recent call last)",
      "\u001b[1;32m<ipython-input-9-f63e4f2322d1>\u001b[0m in \u001b[0;36m<module>\u001b[1;34m\u001b[0m\n\u001b[0;32m      1\u001b[0m \u001b[1;34m\"\"\"FGSM ATTACK\"\"\"\u001b[0m\u001b[1;33m\u001b[0m\u001b[1;33m\u001b[0m\u001b[0m\n\u001b[0;32m      2\u001b[0m \u001b[1;33m\u001b[0m\u001b[0m\n\u001b[1;32m----> 3\u001b[1;33m \u001b[0mn_adversarial\u001b[0m \u001b[1;33m=\u001b[0m \u001b[0my_test\u001b[0m\u001b[1;33m.\u001b[0m\u001b[0mshape\u001b[0m\u001b[1;33m[\u001b[0m\u001b[1;36m0\u001b[0m\u001b[1;33m]\u001b[0m\u001b[1;33m\u001b[0m\u001b[1;33m\u001b[0m\u001b[0m\n\u001b[0m\u001b[0;32m      4\u001b[0m \u001b[1;33m\u001b[0m\u001b[0m\n\u001b[0;32m      5\u001b[0m \u001b[0mtrgt_inp\u001b[0m \u001b[1;33m=\u001b[0m \u001b[0mtf\u001b[0m\u001b[1;33m.\u001b[0m\u001b[0mplaceholder\u001b[0m\u001b[1;33m(\u001b[0m\u001b[0mtf\u001b[0m\u001b[1;33m.\u001b[0m\u001b[0mfloat32\u001b[0m\u001b[1;33m,\u001b[0m \u001b[1;33m(\u001b[0m\u001b[0mn_fake_users\u001b[0m\u001b[1;33m,\u001b[0m \u001b[1;36m64\u001b[0m\u001b[1;33m)\u001b[0m\u001b[1;33m)\u001b[0m\u001b[1;33m\u001b[0m\u001b[1;33m\u001b[0m\u001b[0m\n",
      "\u001b[1;31mNameError\u001b[0m: name 'y_test' is not defined"
     ]
    }
   ],
   "source": [
    "\"\"\"FGSM ATTACK\"\"\"\n",
    "\n",
    "n_adversarial = y_test.shape[0]\n",
    "\n",
    "trgt_inp = tf.placeholder(tf.float32, (n_fake_users, 64))\n",
    "# true_out = tf.placeholder(tf.float32, (n_fake_users, 10))\n",
    "epsilon = tf.placeholder(tf.float32, [n_adversarial, img_width, img_height, 1])\n",
    "\n",
    "new_inp = tf.identity(trgt_inp)  #returns a tensor with the same shape and type\n",
    "\n",
    "output = model(new_inp)\n",
    "\n",
    "loss = tf.sqrt(tf.nn.softmax_cross_entropy_with_logits(logits=output, labels=true_out))\n",
    "\n",
    "grad = tf.gradients(loss, new_inp)\n",
    "new_inp = tf.stop_gradient(new_inp + epsilon * tf.sign(grad))\n",
    "\n",
    "step = 0.1\n",
    "eps = np.full((n_adversarial, img_width, img_height, 1), step)\n",
    "\n",
    "feed_dict = {trgt_inp: x_test,\n",
    "             true_out: y_test,\n",
    "             epsilon: eps}\n",
    "\n",
    "x_adv, l = sess.run([new_inp, loss],\n",
    "                    feed_dict)\n",
    "\n",
    "x_adv = x_adv.reshape((n_adversarial, img_width, img_height, 1))\n",
    "\n",
    "acc_bfr_attck = model.evaluate(x=x_test, y=y_test, batch_size=32)[1]\n",
    "acc_aftr_attck = model.evaluate(x=x_adv, y=y_test, batch_size=32)[1]\n",
    "print('Accuracy before FGSM {}, Accuracy after FGSM {}'.format(acc_bfr_attck, acc_aftr_attck))"
   ]
  },
  {
   "cell_type": "code",
   "execution_count": 7,
   "metadata": {},
   "outputs": [
    {
     "name": "stdout",
     "output_type": "stream",
     "text": [
      "hello, [[4.]]\n"
     ]
    }
   ],
   "source": [
    "x = [[2.]]\n",
    "m = tf.matmul(x, x)\n",
    "print(\"hello, {}\".format(m))\n"
   ]
  },
  {
   "cell_type": "code",
   "execution_count": null,
   "metadata": {},
   "outputs": [],
   "source": [
    "tf.Variable"
   ]
  }
 ],
 "metadata": {
  "kernelspec": {
   "display_name": "Python 3",
   "language": "python",
   "name": "python3"
  },
  "language_info": {
   "codemirror_mode": {
    "name": "ipython",
    "version": 3
   },
   "file_extension": ".py",
   "mimetype": "text/x-python",
   "name": "python",
   "nbconvert_exporter": "python",
   "pygments_lexer": "ipython3",
   "version": "3.6.9"
  }
 },
 "nbformat": 4,
 "nbformat_minor": 2
}
